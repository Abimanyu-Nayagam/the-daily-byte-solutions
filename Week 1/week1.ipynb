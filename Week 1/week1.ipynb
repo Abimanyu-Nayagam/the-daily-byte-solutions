{
 "cells": [
  {
   "cell_type": "markdown",
   "metadata": {},
   "source": [
    "Day 1:\n",
    "Given a string, reverse all of its characters and return the resulting string. \\\n",
    "Ex: Given the following strings... \\\n",
    "“Cat”, return “taC” \\\n",
    "“The Daily Byte”, return \"etyB yliaD ehT” \\\n",
    "“civic”, return “civic”"
   ]
  },
  {
   "cell_type": "code",
   "execution_count": 1,
   "metadata": {},
   "outputs": [
    {
     "data": {
      "text/plain": [
       "'etyB yliaD ehT'"
      ]
     },
     "execution_count": 1,
     "metadata": {},
     "output_type": "execute_result"
    }
   ],
   "source": [
    "def rev_string(test):\n",
    "    result = test[::-1]\n",
    "    return result\n",
    "\n",
    "test = \"The Daily Byte\"\n",
    "rev_string(test)"
   ]
  },
  {
   "cell_type": "markdown",
   "metadata": {},
   "source": [
    "Day 2:\n",
    "Given a string, return whether or not it forms a palindrome ignoring case and non-alphabetical characters. \\\n",
    "Ex: Given the following strings... \\\n",
    "\"level\", return true \\\n",
    "\"algorithm\", return false \\\n",
    "\"A man, a plan, a canal: Panama.\", return true"
   ]
  },
  {
   "cell_type": "code",
   "execution_count": 2,
   "metadata": {},
   "outputs": [
    {
     "data": {
      "text/plain": [
       "True"
      ]
     },
     "execution_count": 2,
     "metadata": {},
     "output_type": "execute_result"
    }
   ],
   "source": [
    "def sp_pal(test):\n",
    "    result = \"\"\n",
    "    for i in test.lower():\n",
    "        if i.isalpha():\n",
    "            result += i\n",
    "    return True if result == result[::-1] else False\n",
    "\n",
    "test = \"A man, a plan, a canal: Panama.\"\n",
    "sp_pal(test)"
   ]
  },
  {
   "cell_type": "markdown",
   "metadata": {},
   "source": [
    "Day 3:\n",
    "Given a string representing the sequence of moves a robot vacuum makes, return whether or not it will return to its original position. The string will only contain L, R, U, and D characters, representing left, right, up, and down respectively. \\\n",
    "Ex: Given the following strings... \\\n",
    "\"LR\", return true \\\n",
    "\"URURD\", return false \\\n",
    "\"RUULLDRD\", return true"
   ]
  },
  {
   "cell_type": "code",
   "execution_count": 3,
   "metadata": {},
   "outputs": [
    {
     "data": {
      "text/plain": [
       "True"
      ]
     },
     "execution_count": 3,
     "metadata": {},
     "output_type": "execute_result"
    }
   ],
   "source": [
    "def back_or_not(directions, test):\n",
    "    check = 0\n",
    "    for i in test:\n",
    "        check += directions[i]\n",
    "    return True if check == 0 else False\n",
    "\n",
    "test = \"RUULLDRD\"\n",
    "directions = {\n",
    "    \"L\" : -1,\n",
    "    \"R\" : +1,\n",
    "    \"U\" : +1,\n",
    "    \"D\" : -1\n",
    "}\n",
    "back_or_not(directions, test)"
   ]
  },
  {
   "cell_type": "markdown",
   "metadata": {},
   "source": [
    "Day 4:\n",
    "Given a string, return whether or not it uses capitalization correctly. A string correctly uses capitalization if all letters are capitalized, no letters are capitalized, or only the first letter is capitalized. \\\n",
    "Ex: Given the following strings... \\\n",
    "\"USA\", return true \\\n",
    "\"Calvin\", return true \\\n",
    "\"compUter\", return false \\\n",
    "\"coding\", return true"
   ]
  },
  {
   "cell_type": "code",
   "execution_count": 5,
   "metadata": {},
   "outputs": [
    {
     "data": {
      "text/plain": [
       "False"
      ]
     },
     "execution_count": 5,
     "metadata": {},
     "output_type": "execute_result"
    }
   ],
   "source": [
    "def corr_cap(test1):\n",
    "    if test1[0].islower():\n",
    "        if test1 == test1.lower():\n",
    "            return True\n",
    "    elif test1[0].isupper():\n",
    "        if test1 == test1.title():\n",
    "            return True\n",
    "        elif test1 == test1.upper():\n",
    "            return True\n",
    "    return False\n",
    "test = \"compUter\"\n",
    "corr_cap(test)"
   ]
  },
  {
   "cell_type": "markdown",
   "metadata": {},
   "source": [
    "Day 5: Given two binary strings (strings containing only 1s and 0s) return their sum (also as a binary string). \\\n",
    "Note: neither binary string will contain leading 0s unless the string itself is 0 \\\n",
    "Ex: Given the following binary strings...\n",
    "\n",
    "\"100\" + \"1\", return \"101\" \\\n",
    "\"11\" + \"1\", return \"100\" \\\n",
    "\"1\" + \"0\", return  \"1\"\n"
   ]
  },
  {
   "cell_type": "code",
   "execution_count": 7,
   "metadata": {},
   "outputs": [
    {
     "name": "stdout",
     "output_type": "stream",
     "text": [
      "result is 101\n"
     ]
    }
   ],
   "source": [
    "#Using Brute Force approach\n",
    "def bit_add(bit1, bit2, carry=0):\n",
    "    ibit1 = int(bit1)\n",
    "    ibit2 = int(bit2)\n",
    "    res = None\n",
    "    if ibit1 == 0 and ibit2 == 0:\n",
    "        if carry == 0:\n",
    "            res = 0\n",
    "            carry = 0\n",
    "        else:\n",
    "            res = 1\n",
    "            carry = 0\n",
    "    elif ibit1 == 0 and ibit2 == 1:\n",
    "        if carry == 0:\n",
    "            res = 1\n",
    "            carry = 0\n",
    "        else:\n",
    "            res = 0\n",
    "            carry = 1\n",
    "    elif ibit1 == 1 and ibit2 == 0:\n",
    "        if carry == 0:\n",
    "            res = 1\n",
    "            carry = 0\n",
    "        else:\n",
    "            res = 0\n",
    "            carry = 1\n",
    "    elif ibit1 == ibit2 == 1:\n",
    "        if carry == 0:\n",
    "            res = 0\n",
    "            carry = 1\n",
    "        else:\n",
    "            res = 1\n",
    "            carry = 1\n",
    "    return res, carry\n",
    "\n",
    "def binary_add(arg1, arg2):\n",
    "    if arg1 == \"0\":\n",
    "        return arg2\n",
    "    if arg2 == \"0\":\n",
    "        return arg1\n",
    "    len1 = len(arg1)\n",
    "    len2 = len(arg2)\n",
    "    no_of_zeros = max(len1 - len2, len2 - len1)\n",
    "    zero_string = \"\"\n",
    "    for i in range(no_of_zeros):\n",
    "        zero_string += \"0\"\n",
    "    if len1>len2:\n",
    "        arg2 = zero_string + arg2\n",
    "        i_len = len(arg1)\n",
    "    else:\n",
    "        arg1 = zero_string + arg1\n",
    "        i_len = len(arg2)\n",
    "    result = \"\"\n",
    "    c = 0\n",
    "    for i in range(i_len):\n",
    "        c_bit1 = arg1[i_len - i - 1]\n",
    "        c_bit2 = arg2[i_len - i - 1]\n",
    "        res_bit, c = bit_add(c_bit1, c_bit2, c)\n",
    "        result += str(res_bit)\n",
    "    if c == 1:\n",
    "        return str(c)+result\n",
    "    else:\n",
    "        return result\n",
    "\n",
    "num1 = \"100\"\n",
    "num2 = \"1\"\n",
    "result = binary_add(num1, num2)\n",
    "print(f\"result is {result}\")"
   ]
  },
  {
   "cell_type": "markdown",
   "metadata": {},
   "source": [
    "Day 6: Given an array of strings, return the longest common prefix that is shared amongst all strings.\n",
    "Note: you may assume all strings only contain lowercase alphabetical characters. \\\n",
    "Ex: Given the following arrays...\n",
    "[\"colorado\", \"color\", \"cold\"], return \"col\" \\\n",
    "[\"a\", \"b\", \"c\"], return \"\" \\\n",
    "[\"spot\", \"spotty\", \"spotted\"], return \"spot\""
   ]
  },
  {
   "cell_type": "code",
   "execution_count": 8,
   "metadata": {},
   "outputs": [
    {
     "data": {
      "text/plain": [
       "'spot'"
      ]
     },
     "execution_count": 8,
     "metadata": {},
     "output_type": "execute_result"
    }
   ],
   "source": [
    "def longest_common_prefix(test):\n",
    "    test = sorted(test, key = len)\n",
    "    check = test.pop()\n",
    "    result = []\n",
    "    for i in range(len(check)+1):\n",
    "        check0 = check[:i]\n",
    "        for word in test:\n",
    "            if word[:i] == check0:\n",
    "                result.append(check0)\n",
    "            else:\n",
    "                return result.pop()\n",
    "\n",
    "test = [\"spot\", \"spotty\", \"spotted\"]\n",
    "longest_common_prefix(test)"
   ]
  },
  {
   "cell_type": "markdown",
   "metadata": {},
   "source": [
    "Day 7: Given a string and the ability to delete at most one character, return whether or not it can form a palindrome. \\\n",
    "Ex: Given the following strings...\n",
    "\"abcba\", return true \\\n",
    "\"foobof\", return true (remove the first 'o', the second 'o', or 'b') \\\n",
    "\"abccab\", return false"
   ]
  },
  {
   "cell_type": "code",
   "execution_count": 9,
   "metadata": {},
   "outputs": [
    {
     "data": {
      "text/plain": [
       "True"
      ]
     },
     "execution_count": 9,
     "metadata": {},
     "output_type": "execute_result"
    }
   ],
   "source": [
    "def pdrome_cdate(test):\n",
    "    for i in range(len(test)):\n",
    "        check = test\n",
    "        res = check[:i] + check[(i+1):]\n",
    "        if res == res[::-1]:\n",
    "            return True\n",
    "    return False\n",
    "\n",
    "test = \"abcba\"\n",
    "pdrome_cdate(test)"
   ]
  }
 ],
 "metadata": {
  "kernelspec": {
   "display_name": "base",
   "language": "python",
   "name": "python3"
  },
  "language_info": {
   "codemirror_mode": {
    "name": "ipython",
    "version": 3
   },
   "file_extension": ".py",
   "mimetype": "text/x-python",
   "name": "python",
   "nbconvert_exporter": "python",
   "pygments_lexer": "ipython3",
   "version": "3.8.8"
  },
  "orig_nbformat": 4
 },
 "nbformat": 4,
 "nbformat_minor": 2
}
