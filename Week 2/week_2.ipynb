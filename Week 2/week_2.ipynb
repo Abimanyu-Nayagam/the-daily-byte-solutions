{
 "cells": [
  {
   "cell_type": "markdown",
   "metadata": {},
   "source": [
    "Day 1: Given an array of integers, return whether or not two numbers sum to a given target, k. \\\n",
    "Note: you may not sum a number with itself. \\\n",
    "Ex: Given the following... \\\n",
    "[1, 3, 8, 2], k = 10, return true (8 + 2) \\\n",
    "[3, 9, 13, 7], k = 8, return false \\\n",
    "[4, 2, 6, 5, 2], k = 4, return true (2 + 2)"
   ]
  },
  {
   "cell_type": "code",
   "execution_count": null,
   "metadata": {},
   "outputs": [
    {
     "data": {
      "text/plain": [
       "True"
      ]
     },
     "metadata": {},
     "output_type": "display_data"
    }
   ],
   "source": [
    "def two_sum(arr, tgt):\n",
    "    for i, e in enumerate(arr):\n",
    "        for j in range(i, len(arr)):\n",
    "            if e+j==tgt:\n",
    "                return True\n",
    "    return False\n",
    "        \n",
    "test = [4,2,6,5,2]\n",
    "target = 10\n",
    "two_sum(test, target)"
   ]
  }
 ],
 "metadata": {
  "language_info": {
   "name": "python"
  },
  "orig_nbformat": 4
 },
 "nbformat": 4,
 "nbformat_minor": 2
}
