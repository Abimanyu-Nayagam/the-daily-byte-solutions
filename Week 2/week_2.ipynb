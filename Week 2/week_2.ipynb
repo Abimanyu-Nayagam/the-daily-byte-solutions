{
 "cells": [
  {
   "cell_type": "markdown",
   "metadata": {},
   "source": [
    "Day 8: Given an array of integers, return whether or not two numbers sum to a given target, k. \\\n",
    "Note: you may not sum a number with itself. \\\n",
    "Ex: Given the following... \\\n",
    "[1, 3, 8, 2], k = 10, return true (8 + 2) \\\n",
    "[3, 9, 13, 7], k = 8, return false \\\n",
    "[4, 2, 6, 5, 2], k = 4, return true (2 + 2)"
   ]
  },
  {
   "cell_type": "code",
   "execution_count": 30,
   "metadata": {},
   "outputs": [
    {
     "data": {
      "text/plain": [
       "[1, 4]"
      ]
     },
     "execution_count": 30,
     "metadata": {},
     "output_type": "execute_result"
    }
   ],
   "source": [
    "def two_sum(nums, target):\n",
    "    num_map = {}\n",
    "    for i, num in enumerate(nums):\n",
    "        num_map[num] = i\n",
    "    n = len(nums)\n",
    "    for i in range(n):\n",
    "        complement = target - nums[i]\n",
    "        if complement in num_map and num_map[complement] != i:\n",
    "            return [i, num_map[complement]]\n",
    "    return []\n",
    "        \n",
    "test = [4,2,6,5,2]\n",
    "target = 4\n",
    "two_sum(test, target)"
   ]
  },
  {
   "cell_type": "markdown",
   "metadata": {},
   "source": [
    "Day 9: Given a string representing your stones and another string representing a list of jewels, return the number of stones that you have that are also jewels. \\\n",
    "Ex: Given the following jewels and stones... \\\n",
    "jewels = \"abc\", stones = \"ac\", return 2 \\\n",
    "jewels = \"Af\", stones = \"AaaddfFf\", return 3 \\\n",
    "jewels = \"AYOPD\", stones = \"ayopd\", return 0"
   ]
  },
  {
   "cell_type": "code",
   "execution_count": 38,
   "metadata": {},
   "outputs": [
    {
     "data": {
      "text/plain": [
       "3"
      ]
     },
     "execution_count": 38,
     "metadata": {},
     "output_type": "execute_result"
    }
   ],
   "source": [
    "def jewel_count(jewels, stones):\n",
    "    count = 0\n",
    "    map = {}\n",
    "    for i in jewels:\n",
    "        map[i] = 0\n",
    "    for i in stones:\n",
    "        if i in map:\n",
    "            count+=1\n",
    "    return count\n",
    "\n",
    "jewels = \"Af\"\n",
    "stones = \"AaaddfFf\"\n",
    "jewel_count(jewels, stones)"
   ]
  },
  {
   "cell_type": "markdown",
   "metadata": {},
   "source": [
    "Day 10: Given two strings s and t return whether or not s is an anagram of t.\n",
    "Note: An anagram is a word formed by reordering the letters of another word. \\\n",
    "Ex: Given the following strings... \\\n",
    "s = \"cat\", t = \"tac\", return true \\\n",
    "s = \"listen\", t = \"silent\", return true \\\n",
    "s = \"program\", t = \"function\", return false"
   ]
  },
  {
   "cell_type": "code",
   "execution_count": 1,
   "metadata": {},
   "outputs": [
    {
     "data": {
      "text/plain": [
       "False"
      ]
     },
     "execution_count": 1,
     "metadata": {},
     "output_type": "execute_result"
    }
   ],
   "source": [
    "def is_anagram(s,t):\n",
    "    map = {}\n",
    "    for i in s:\n",
    "        if i not in map.keys():\n",
    "            map[i] = 1\n",
    "        else:\n",
    "            map[i]+=1\n",
    "    for i in t:\n",
    "        if i in map.keys():\n",
    "            map[i]-=1\n",
    "        else:\n",
    "            map[i] = -1\n",
    "    for i in map.keys():\n",
    "        if map[i]!=0:\n",
    "            return False\n",
    "    return True\n",
    "\n",
    "s = \"a\"\n",
    "t = \"ab\"\n",
    "is_anagram(s,t)"
   ]
  },
  {
   "cell_type": "markdown",
   "metadata": {},
   "source": [
    "Day 11: Given a string, return the index of its first unique character. If a unique character does not exist, return -1. \\\n",
    "Ex: Given the following strings... \\\n",
    "\"abcabd\", return 2 \\\n",
    "\"thedailybyte\", return 1 \\\n",
    "\"developer\", return 0"
   ]
  },
  {
   "cell_type": "code",
   "execution_count": 6,
   "metadata": {},
   "outputs": [
    {
     "data": {
      "text/plain": [
       "0"
      ]
     },
     "execution_count": 6,
     "metadata": {},
     "output_type": "execute_result"
    }
   ],
   "source": [
    "def unik_char(test):\n",
    "    map = {}\n",
    "    for i in test:\n",
    "        if i not in map:\n",
    "            map[i] = 1\n",
    "        else:\n",
    "            map[i]+=1\n",
    "    for i in test:\n",
    "        if map[i] == 1:\n",
    "            return test.index(i)\n",
    "    return -1\n",
    "\n",
    "test = \"developer\"\n",
    "unik_char(test)"
   ]
  }
 ],
 "metadata": {
  "kernelspec": {
   "display_name": "base",
   "language": "python",
   "name": "python3"
  },
  "language_info": {
   "codemirror_mode": {
    "name": "ipython",
    "version": 3
   },
   "file_extension": ".py",
   "mimetype": "text/x-python",
   "name": "python",
   "nbconvert_exporter": "python",
   "pygments_lexer": "ipython3",
   "version": "3.8.8"
  },
  "orig_nbformat": 4
 },
 "nbformat": 4,
 "nbformat_minor": 2
}
