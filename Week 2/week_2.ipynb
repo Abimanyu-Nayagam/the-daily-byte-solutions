{
 "cells": [
  {
   "cell_type": "markdown",
   "metadata": {},
   "source": [
    "Day 1: Given an array of integers, return whether or not two numbers sum to a given target, k. \\\n",
    "Note: you may not sum a number with itself. \\\n",
    "Ex: Given the following... \\\n",
    "[1, 3, 8, 2], k = 10, return true (8 + 2) \\\n",
    "[3, 9, 13, 7], k = 8, return false \\\n",
    "[4, 2, 6, 5, 2], k = 4, return true (2 + 2)"
   ]
  },
  {
   "cell_type": "code",
   "execution_count": null,
   "metadata": {},
   "outputs": [
    {
     "data": {
      "text/plain": [
       "True"
      ]
     },
     "metadata": {},
     "output_type": "display_data"
    }
   ],
   "source": [
    "def two_sum(arr, tgt):\n",
    "    for i, e in enumerate(arr):\n",
    "        for j in range(i, len(arr)):\n",
    "            if e+j==tgt:\n",
    "                return True\n",
    "    return False\n",
    "        \n",
    "test = [4,2,6,5,2]\n",
    "target = 10\n",
    "two_sum(test, target)"
   ]
  },
  {
   "cell_type": "markdown",
   "metadata": {},
   "source": [
    "Day 2: Given a string representing your stones and another string representing a list of jewels, return the number of stones that you have that are also jewels. \\\n",
    "Ex: Given the following jewels and stones... \\\n",
    "jewels = \"abc\", stones = \"ac\", return 2 \\\n",
    "jewels = \"Af\", stones = \"AaaddfFf\", return 3 \\\n",
    "jewels = \"AYOPD\", stones = \"ayopd\", return 0"
   ]
  },
  {
   "cell_type": "code",
   "execution_count": 4,
   "metadata": {},
   "outputs": [
    {
     "data": {
      "text/plain": [
       "0"
      ]
     },
     "execution_count": 4,
     "metadata": {},
     "output_type": "execute_result"
    }
   ],
   "source": [
    "def jewel_count(jewels, stones):\n",
    "    count = 0\n",
    "    for i in jewels:\n",
    "        for j in stones:\n",
    "            if i == j:\n",
    "                count +=1\n",
    "    return count\n",
    "\n",
    "jewels = \"Af\"\n",
    "stones = \"AaaddfFf\"\n",
    "jewel_count(jewels, stones)"
   ]
  }
 ],
 "metadata": {
  "kernelspec": {
   "display_name": "base",
   "language": "python",
   "name": "python3"
  },
  "language_info": {
   "codemirror_mode": {
    "name": "ipython",
    "version": 3
   },
   "file_extension": ".py",
   "mimetype": "text/x-python",
   "name": "python",
   "nbconvert_exporter": "python",
   "pygments_lexer": "ipython3",
   "version": "3.8.8"
  },
  "orig_nbformat": 4
 },
 "nbformat": 4,
 "nbformat_minor": 2
}
